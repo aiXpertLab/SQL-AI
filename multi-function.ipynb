{
 "cells": [
  {
   "cell_type": "code",
   "execution_count": 4,
   "metadata": {},
   "outputs": [
    {
     "data": {
      "text/plain": [
       "True"
      ]
     },
     "execution_count": 4,
     "metadata": {},
     "output_type": "execute_result"
    }
   ],
   "source": [
    "from dotenv import load_dotenv\n",
    "load_dotenv()"
   ]
  },
  {
   "cell_type": "code",
   "execution_count": null,
   "metadata": {},
   "outputs": [],
   "source": []
  },
  {
   "cell_type": "code",
   "execution_count": 10,
   "metadata": {},
   "outputs": [],
   "source": [
    "def search_baidu(keyword):\n",
    "    \"\"\"从百度搜索引擎中搜索关键词\"\"\"\n",
    "    return f\"{keyword}是一个技术博主\"\n",
    "\n",
    "def search_google(keyword):\n",
    "    \"\"\"从谷歌搜索引擎中搜索关键词\"\"\"\n",
    "    return f\"{keyword}是一个后端工程师\"\n",
    "\n",
    "def search_bing(keyword):\n",
    "    \"\"\"从必应搜索引擎中搜索关键词\"\"\"\n",
    "    return f\"{keyword}是一个Python爱好者\""
   ]
  },
  {
   "cell_type": "code",
   "execution_count": 11,
   "id": "45658bb4-96e0-4f6c-a759-f79eb6e3d931",
   "metadata": {},
   "outputs": [],
   "source": [
    "tools = [\n",
    "    {\n",
    "        \"type\": \"function\",\n",
    "        \"function\": {\n",
    "            \"name\": \"search_baidu\",\n",
    "            \"description\": \"从百度搜索引擎中搜索关键词\",\n",
    "            \"parameters\": {\n",
    "                \"type\": \"object\",\n",
    "                \"properties\": {\n",
    "                    \"keyword\": {\n",
    "                        \"type\": \"string\",\n",
    "                        \"description\": \"搜索关键词\",\n",
    "                    }\n",
    "                },\n",
    "                \"required\": [\"keyword\"],\n",
    "            },\n",
    "        }\n",
    "    },    \n",
    "    {\n",
    "        \"type\": \"function\",\n",
    "        \"function\": {\n",
    "            \"name\": \"search_google\",\n",
    "            \"description\": \"从google搜索引擎中搜索关键词\",\n",
    "            \"parameters\": {\n",
    "                \"type\": \"object\",\n",
    "                \"properties\": {\n",
    "                    \"keyword\": {\n",
    "                        \"type\": \"string\",\n",
    "                        \"description\": \"搜索关键词\",\n",
    "                    }\n",
    "                },\n",
    "                \"required\": [\"keyword\"],\n",
    "            },\n",
    "        }\n",
    "    },        \n",
    "    {\n",
    "        \"type\": \"function\",\n",
    "        \"function\": {\n",
    "            \"name\": \"search_bing\",\n",
    "            \"description\": \"从bing搜索引擎中搜索关键词\",\n",
    "            \"parameters\": {\n",
    "                \"type\": \"object\",\n",
    "                \"properties\": {\n",
    "                    \"keyword\": {\n",
    "                        \"type\": \"string\",\n",
    "                        \"description\": \"搜索关键词\",\n",
    "                    }\n",
    "                },\n",
    "                \"required\": [\"keyword\"],\n",
    "            },\n",
    "        }\n",
    "    }\n",
    "]\n",
    "available_functions = { \"search_baidu\": search_baidu, \"search_google\": search_google, \"search_bing\": search_bing } "
   ]
  },
  {
   "cell_type": "code",
   "execution_count": 12,
   "metadata": {},
   "outputs": [
    {
     "name": "stdout",
     "output_type": "stream",
     "text": [
      "ChatCompletionMessage(content=None, role='assistant', function_call=None, tool_calls=[ChatCompletionMessageToolCall(id='call_E9tvxYXgM3aYhnMMjF5AbgeW', function=Function(arguments='{\"keyword\": \"xindoo\"}', name='search_baidu'), type='function'), ChatCompletionMessageToolCall(id='call_Z9Aw9mIzXKbrbF69LXwATBgT', function=Function(arguments='{\"keyword\": \"xindoo\"}', name='search_google'), type='function'), ChatCompletionMessageToolCall(id='call_Uz8nmwejrMzdz9iVRDCjKC8g', function=Function(arguments='{\"keyword\": \"xindoo\"}', name='search_bing'), type='function')])\n",
      "[{'role': 'user', 'content': \"汇总下百度、谷歌、必应三个搜索引擎关于'xindoo'的结果\"}, ChatCompletionMessage(content=None, role='assistant', function_call=None, tool_calls=[ChatCompletionMessageToolCall(id='call_E9tvxYXgM3aYhnMMjF5AbgeW', function=Function(arguments='{\"keyword\": \"xindoo\"}', name='search_baidu'), type='function'), ChatCompletionMessageToolCall(id='call_Z9Aw9mIzXKbrbF69LXwATBgT', function=Function(arguments='{\"keyword\": \"xindoo\"}', name='search_google'), type='function'), ChatCompletionMessageToolCall(id='call_Uz8nmwejrMzdz9iVRDCjKC8g', function=Function(arguments='{\"keyword\": \"xindoo\"}', name='search_bing'), type='function')]), {'tool_call_id': 'call_E9tvxYXgM3aYhnMMjF5AbgeW', 'role': 'tool', 'name': 'search_baidu', 'content': 'xindoo是一个技术博主'}, {'tool_call_id': 'call_Z9Aw9mIzXKbrbF69LXwATBgT', 'role': 'tool', 'name': 'search_google', 'content': 'xindoo是一个后端工程师'}, {'tool_call_id': 'call_Uz8nmwejrMzdz9iVRDCjKC8g', 'role': 'tool', 'name': 'search_bing', 'content': 'xindoo是一个Python爱好者'}]\n",
      "ChatCompletion(id='chatcmpl-8MFYuliunogSUQgRmDcZExxVHiZeQ', choices=[Choice(finish_reason='stop', index=0, message=ChatCompletionMessage(content=\"经过搜索引擎的归纳，我整理了关于'xindoo'的结果：它是一个技术博主，也是一个后端工程师，并且是一个Python爱好者。\", role='assistant', function_call=None, tool_calls=None))], created=1700313728, model='gpt-3.5-turbo-1106', object='chat.completion', system_fingerprint='fp_eeff13170a', usage=CompletionUsage(completion_tokens=58, prompt_tokens=208, total_tokens=266))\n"
     ]
    }
   ],
   "source": [
    "from openai import OpenAI\n",
    "import json\n",
    "client = OpenAI(base_url='https://thales.xindoo.xyz/openai/v1/')\n",
    "\n",
    "def search(keyword):\n",
    "    messages = [{\"role\": \"user\", \"content\": f\"汇总下百度、谷歌、必应三个搜索引擎关于'{keyword}'的结果\"}]\n",
    "    # 发起首次请求，告诉gpt要做什么，已经有哪些函数可以调动 \n",
    "    response = client.chat.completions.create(\n",
    "        model=\"gpt-3.5-turbo-1106\",\n",
    "        messages=messages,\n",
    "        tools=tools,\n",
    "        tool_choice=\"auto\", \n",
    "    )\n",
    "    response_message = response.choices[0].message\n",
    "    tool_calls = response_message.tool_calls\n",
    "    # 检查是否需要调用函数\n",
    "    if tool_calls:\n",
    "        # 解析所有需要调用的函数及参数\n",
    "        messages.append(response_message)  # 注意这里要将openai的回复也拼接到消息列表里\n",
    "        # 将所有函数调用的结果拼接到消息列表里\n",
    "        for tool_call in tool_calls:\n",
    "            function_name = tool_call.function.name\n",
    "            function_to_call = available_functions[function_name]\n",
    "            function_args = json.loads(tool_call.function.arguments)\n",
    "            function_response = function_to_call(**function_args)\n",
    "            messages.append(\n",
    "                {\n",
    "                    \"tool_call_id\": tool_call.id,\n",
    "                    \"role\": \"tool\",\n",
    "                    \"name\": function_name,\n",
    "                    \"content\": function_response,\n",
    "                }\n",
    "            ) \n",
    "        second_response = client.chat.completions.create(\n",
    "            model=\"gpt-3.5-turbo-1106\",\n",
    "            messages=messages,\n",
    "        )  \n",
    "        return second_response.choices[0].message.content\n",
    "    \n",
    "print(search(\"xindoo\"))"
   ]
  },
  {
   "cell_type": "code",
   "execution_count": null,
   "metadata": {},
   "outputs": [],
   "source": []
  }
 ],
 "metadata": {
  "kernelspec": {
   "display_name": "Python 3 (ipykernel)",
   "language": "python",
   "name": "python3"
  },
  "language_info": {
   "codemirror_mode": {
    "name": "ipython",
    "version": 3
   },
   "file_extension": ".py",
   "mimetype": "text/x-python",
   "name": "python",
   "nbconvert_exporter": "python",
   "pygments_lexer": "ipython3",
   "version": "3.10.11"
  }
 },
 "nbformat": 4,
 "nbformat_minor": 5
}
